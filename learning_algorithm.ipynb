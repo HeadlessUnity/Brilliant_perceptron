{
  "nbformat": 4,
  "nbformat_minor": 0,
  "metadata": {
    "colab": {
      "name": "learning_algorithm.ipynb",
      "version": "0.3.2",
      "provenance": [],
      "collapsed_sections": []
    },
    "kernelspec": {
      "name": "python3",
      "display_name": "Python 3"
    }
  },
  "cells": [
    {
      "metadata": {
        "id": "XCidMwNqktH4",
        "colab_type": "code",
        "colab": {}
      },
      "cell_type": "code",
      "source": [
        "x1 = (-1, 1)\n",
        "x2 = (0, -1)\n",
        "x3 = (5, 5)\n",
        "x4 = (10, 5)\n",
        "x5 = (0, 3)\n",
        "x6 = (4, -5)\n",
        "\n",
        "points = [x1, x2, x3, x4, x5, x6]\n",
        "y1 = 1\n",
        "y2 = 1\n",
        "y3 = -1\n",
        "y4 = -1\n",
        "y5 = 1\n",
        "y6 = 1\n",
        "outputs = [y1, y2, y3, y4, y5, y6]"
      ],
      "execution_count": 0,
      "outputs": []
    },
    {
      "metadata": {
        "id": "9_U0rz4RqMA0",
        "colab_type": "code",
        "colab": {}
      },
      "cell_type": "code",
      "source": [
        "def loss_function(decision_boundary):\n",
        "  loss = decision_boundary\n",
        "  indicator_function_output = 1 if loss > 0 else -1 if loss < 0 else 0\n",
        "  return loss, indicator_function_output"
      ],
      "execution_count": 0,
      "outputs": []
    },
    {
      "metadata": {
        "id": "KneH7an400v1",
        "colab_type": "code",
        "colab": {}
      },
      "cell_type": "code",
      "source": [
        "def calculate_dot_product(weight, input_point):\n",
        "  dot_product = sum([i*j for i,j in zip(weight, input_point)])\n",
        "  return dot_product"
      ],
      "execution_count": 0,
      "outputs": []
    },
    {
      "metadata": {
        "id": "MhhUjrA8y0n5",
        "colab_type": "code",
        "colab": {}
      },
      "cell_type": "code",
      "source": [
        "def decision_boundary(weight, input_point, bias=0):\n",
        "  dot_product = calculate_dot_product(weight, input_point)\n",
        "  decision_boundary = dot_product + bias\n",
        "  return decision_boundary"
      ],
      "execution_count": 0,
      "outputs": []
    },
    {
      "metadata": {
        "id": "enNJM8mBq4a5",
        "colab_type": "code",
        "colab": {}
      },
      "cell_type": "code",
      "source": [
        "def update_weight(current_weight, output, point):\n",
        "   # print(current_weight, point, output)\n",
        "    new_point = tuple(i*output for i in point)\n",
        "   # print(new_point)\n",
        "    new_weight = (current_weight[0]+new_point[0], current_weight[1]+new_point[1])\n",
        "   # print(new_weight)\n",
        "    return new_weight"
      ],
      "execution_count": 0,
      "outputs": []
    },
    {
      "metadata": {
        "id": "zNPFsQvqskgw",
        "colab_type": "code",
        "colab": {}
      },
      "cell_type": "code",
      "source": [
        "def update_bias(output, bias):\n",
        "    new_bias = bias+output\n",
        "    return new_bias"
      ],
      "execution_count": 0,
      "outputs": []
    },
    {
      "metadata": {
        "id": "y3EcCbbsocyW",
        "colab_type": "code",
        "colab": {}
      },
      "cell_type": "code",
      "source": [
        "def linear_classifier(points, outputs):\n",
        "  weight = (0,0)\n",
        "  input_point = (0,0)\n",
        "  bias = 0\n",
        "  current_decision_boundary = 0\n",
        "  indicator_list = list(range(0, len(points)))\n",
        "  signed_distance = -1\n",
        "  termination = (outputs == indicator_list)\n",
        "  while termination == False:\n",
        "    for index, point in enumerate(points): \n",
        "      current_decision_boundary = decision_boundary(weight, point, bias)\n",
        "      loss, indicator_output = loss_function(current_decision_boundary)\n",
        "      magnitude = (weight[0]**2+weight[1]**2)**(0.5)\n",
        "      if magnitude != 0:\n",
        "        signed_distance = (outputs[index]*current_decision_boundary)/magnitude\n",
        "        print(\"signed_distance: \"+str(signed_distance) +\" for point: \"+str(point))\n",
        "        \n",
        "      if signed_distance > 0:\n",
        "        indicator_list.pop(index)\n",
        "        indicator_list.insert(index, indicator_output)\n",
        "        print(\"correct_classification for point: \"+str(point))\n",
        "        print(indicator_list)\n",
        "        if outputs == indicator_list:\n",
        "          termination = True\n",
        "      else:\n",
        "        print(\"current_weight: \"+str(weight))\n",
        "        print(\"current_bias: \"+str(bias))\n",
        "        weight = update_weight(weight, outputs[index], point)\n",
        "        bias = update_bias(bias, outputs[index])\n",
        "        print(\"updated_weight: \"+str(weight))\n",
        "        print(\"updated_bias: \"+str(bias))\n",
        "  return weight, bias\n",
        "    \n"
      ],
      "execution_count": 0,
      "outputs": []
    },
    {
      "metadata": {
        "id": "dEy-PN9gAKNh",
        "colab_type": "code",
        "outputId": "d7249fe8-1e72-4b6a-d041-580c98bd00bf",
        "colab": {
          "base_uri": "https://localhost:8080/",
          "height": 1192
        }
      },
      "cell_type": "code",
      "source": [
        "weight, bias = linear_classifier(points, outputs)"
      ],
      "execution_count": 13,
      "outputs": [
        {
          "output_type": "stream",
          "text": [
            "current_weight: (0, 0)\n",
            "current_bias: 0\n",
            "updated_weight: (-1, 1)\n",
            "updated_bias: 1\n",
            "signed_distance: 0.0 for point: (0, -1)\n",
            "current_weight: (-1, 1)\n",
            "current_bias: 1\n",
            "updated_weight: (-1, 0)\n",
            "updated_bias: 2\n",
            "signed_distance: 3.0 for point: (5, 5)\n",
            "correct_classification for point: (5, 5)\n",
            "[0, 1, -1, 3, 4, 5]\n",
            "signed_distance: 8.0 for point: (10, 5)\n",
            "correct_classification for point: (10, 5)\n",
            "[0, 1, -1, -1, 4, 5]\n",
            "signed_distance: 2.0 for point: (0, 3)\n",
            "correct_classification for point: (0, 3)\n",
            "[0, 1, -1, -1, 1, 5]\n",
            "signed_distance: -2.0 for point: (4, -5)\n",
            "current_weight: (-1, 0)\n",
            "current_bias: 2\n",
            "updated_weight: (3, -5)\n",
            "updated_bias: 3\n",
            "signed_distance: -0.8574929257125441 for point: (-1, 1)\n",
            "current_weight: (3, -5)\n",
            "current_bias: 3\n",
            "updated_weight: (2, -4)\n",
            "updated_bias: 4\n",
            "signed_distance: 1.7888543819998317 for point: (0, -1)\n",
            "correct_classification for point: (0, -1)\n",
            "[0, 1, -1, -1, 1, 5]\n",
            "signed_distance: 1.3416407864998738 for point: (5, 5)\n",
            "correct_classification for point: (5, 5)\n",
            "[0, 1, -1, -1, 1, 5]\n",
            "signed_distance: -0.8944271909999159 for point: (10, 5)\n",
            "current_weight: (2, -4)\n",
            "current_bias: 4\n",
            "updated_weight: (-8, -9)\n",
            "updated_bias: 3\n",
            "signed_distance: -1.9930915164897591 for point: (0, 3)\n",
            "current_weight: (-8, -9)\n",
            "current_bias: 3\n",
            "updated_weight: (-8, -6)\n",
            "updated_bias: 4\n",
            "signed_distance: 0.2 for point: (4, -5)\n",
            "correct_classification for point: (4, -5)\n",
            "[0, 1, -1, -1, 1, 1]\n",
            "signed_distance: 0.6 for point: (-1, 1)\n",
            "correct_classification for point: (-1, 1)\n",
            "[1, 1, -1, -1, 1, 1]\n",
            "signed_distance: 1.0 for point: (0, -1)\n",
            "correct_classification for point: (0, -1)\n",
            "[1, 1, -1, -1, 1, 1]\n",
            "signed_distance: 6.6 for point: (5, 5)\n",
            "correct_classification for point: (5, 5)\n",
            "[1, 1, -1, -1, 1, 1]\n",
            "signed_distance: 10.6 for point: (10, 5)\n",
            "correct_classification for point: (10, 5)\n",
            "[1, 1, -1, -1, 1, 1]\n",
            "signed_distance: -1.4 for point: (0, 3)\n",
            "current_weight: (-8, -6)\n",
            "current_bias: 4\n",
            "updated_weight: (-8, -3)\n",
            "updated_bias: 5\n",
            "signed_distance: -1.4044937663535668 for point: (4, -5)\n",
            "current_weight: (-8, -3)\n",
            "current_bias: 5\n",
            "updated_weight: (-4, -8)\n",
            "updated_bias: 6\n"
          ],
          "name": "stdout"
        }
      ]
    },
    {
      "metadata": {
        "id": "8eJ8k0PFEFX6",
        "colab_type": "code",
        "colab": {
          "base_uri": "https://localhost:8080/",
          "height": 34
        },
        "outputId": "6011b21b-9d26-4372-d99f-9d96e5f0d951"
      },
      "cell_type": "code",
      "source": [
        "print(weight, bias)"
      ],
      "execution_count": 14,
      "outputs": [
        {
          "output_type": "stream",
          "text": [
            "(-4, -8) 6\n"
          ],
          "name": "stdout"
        }
      ]
    },
    {
      "metadata": {
        "id": "RXhngeRnt-au",
        "colab_type": "code",
        "colab": {
          "base_uri": "https://localhost:8080/",
          "height": 376
        },
        "outputId": "c7ca0381-fc78-4445-ff7e-9671a2cb8205"
      },
      "cell_type": "code",
      "source": [
        "import matplotlib.pyplot as plt\n",
        "import numpy as np\n",
        "x = np.linspace(-15,15,100)\n",
        "slope = (-(bias / weight[1]) / (bias / weight[0]))\n",
        "intercept =  (-bias / weight[1])\n",
        "y = slope*x+intercept\n",
        "plt.plot(x, y, '-r', label='{}x+{}'.format(slope, intercept))\n",
        "plt.scatter(*zip(*points))\n",
        "plt.title('Graph of single perceptron, linear classifier')\n",
        "plt.xlabel('x', color='#1C2833')\n",
        "plt.ylabel('y', color='#1C2833')\n",
        "plt.legend(loc='upper left')\n",
        "plt.grid()\n",
        "plt.show()\n"
      ],
      "execution_count": 16,
      "outputs": [
        {
          "output_type": "display_data",
          "data": {
            "image/png": "[encoded data removed]",
            "text/plain": [
              "<Figure size 576x396 with 1 Axes>"
            ]
          },
          "metadata": {
            "tags": []
          }
        }
      ]
    },
    {
      "metadata": {
        "id": "1GXqw7vMDlGM",
        "colab_type": "code",
        "colab": {}
      },
      "cell_type": "code",
      "source": [
        ""
      ],
      "execution_count": 0,
      "outputs": []
    }
  ]
}